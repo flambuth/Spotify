{
 "cells": [
  {
   "cell_type": "code",
   "execution_count": 15,
   "metadata": {},
   "outputs": [],
   "source": [
    "import pandas as pd\n",
    "import sqlite3\n",
    "from collections import Counter"
   ]
  },
  {
   "cell_type": "code",
   "execution_count": 34,
   "metadata": {},
   "outputs": [],
   "source": [
    "con = sqlite3.connect(\"spotify.db\")\n",
    "\n",
    "df = pd.read_sql(\"SELECT * FROM daily_top20_tracks\", con).drop('id', axis=1).drop_duplicates()\n",
    "\n",
    "df.position = df.position.astype('int')"
   ]
  },
  {
   "cell_type": "code",
   "execution_count": null,
   "metadata": {},
   "outputs": [],
   "source": []
  },
  {
   "cell_type": "code",
   "execution_count": null,
   "metadata": {},
   "outputs": [],
   "source": [
    "df.info()"
   ]
  },
  {
   "cell_type": "code",
   "execution_count": null,
   "metadata": {},
   "outputs": [],
   "source": [
    "df_trunc = df[df.date ==]"
   ]
  },
  {
   "cell_type": "code",
   "execution_count": 59,
   "metadata": {},
   "outputs": [
    {
     "data": {
      "text/plain": [
       "art_name\n",
       "Rozwell Kid               230\n",
       "Rose Hill Drive           185\n",
       "Bob Log III               155\n",
       "All Them Witches          149\n",
       "Tom Waits                 128\n",
       "Shocking Blue              96\n",
       "Antarctigo Vespucci        95\n",
       "Friend Within              94\n",
       "beabadoobee                85\n",
       "C. Tangana                 80\n",
       "Great Grandpa              75\n",
       "Weird Owl                  68\n",
       "Fuzz                       61\n",
       "Becca Mancari              59\n",
       "Cayetana                   55\n",
       "SASAMI                     52\n",
       "Cults                      51\n",
       "Mötley Crüe                50\n",
       "Slothrust                  45\n",
       "Radio Moscow               45\n",
       "Flaco Jimenez              42\n",
       "Big Daddy Kane             38\n",
       "Burial                     36\n",
       "The Rolling Stones         27\n",
       "Nine Inch Nails            26\n",
       "Mr. Bizz                   18\n",
       "Ray Wylie Hubbard          16\n",
       "Monolithic                 11\n",
       "Chris Lake                  9\n",
       "Sugar Candy Mountain        9\n",
       "Portishead                  4\n",
       "Andrea Marino               3\n",
       "Motion City Soundtrack      3\n",
       "Name: chart_power, dtype: int32"
      ]
     },
     "execution_count": 59,
     "metadata": {},
     "output_type": "execute_result"
    }
   ],
   "source": [
    "df.groupby(['art_name'])['chart_power'].sum().sort_values(ascending=False)"
   ]
  },
  {
   "cell_type": "code",
   "execution_count": 41,
   "metadata": {},
   "outputs": [],
   "source": [
    "df['chart_power'] = 21 - df.position"
   ]
  },
  {
   "cell_type": "code",
   "execution_count": 42,
   "metadata": {},
   "outputs": [
    {
     "data": {
      "text/html": [
       "<div>\n",
       "<style scoped>\n",
       "    .dataframe tbody tr th:only-of-type {\n",
       "        vertical-align: middle;\n",
       "    }\n",
       "\n",
       "    .dataframe tbody tr th {\n",
       "        vertical-align: top;\n",
       "    }\n",
       "\n",
       "    .dataframe thead th {\n",
       "        text-align: right;\n",
       "    }\n",
       "</style>\n",
       "<table border=\"1\" class=\"dataframe\">\n",
       "  <thead>\n",
       "    <tr style=\"text-align: right;\">\n",
       "      <th></th>\n",
       "      <th>position</th>\n",
       "      <th>art_id</th>\n",
       "      <th>art_name</th>\n",
       "      <th>album_name</th>\n",
       "      <th>song_id</th>\n",
       "      <th>song_name</th>\n",
       "      <th>popularity</th>\n",
       "      <th>date</th>\n",
       "      <th>chart_power</th>\n",
       "    </tr>\n",
       "  </thead>\n",
       "  <tbody>\n",
       "    <tr>\n",
       "      <th>0</th>\n",
       "      <td>1</td>\n",
       "      <td>0xK5OqvQKGC1nNtl2pIbwX</td>\n",
       "      <td>Bob Log III</td>\n",
       "      <td>Guitar Party Power</td>\n",
       "      <td>7cpEBbFirsX4rq2zwqd96L</td>\n",
       "      <td>Ooo Ah Ooo Uh</td>\n",
       "      <td>11</td>\n",
       "      <td>2020-12-13</td>\n",
       "      <td>20</td>\n",
       "    </tr>\n",
       "    <tr>\n",
       "      <th>1</th>\n",
       "      <td>2</td>\n",
       "      <td>3g43Z25cVRJHFn8ph8cdO0</td>\n",
       "      <td>Rozwell Kid</td>\n",
       "      <td>Too Shabby</td>\n",
       "      <td>7HjQRQ1f42ikbZ8gDb7B0m</td>\n",
       "      <td>Weirdo</td>\n",
       "      <td>32</td>\n",
       "      <td>2020-12-13</td>\n",
       "      <td>19</td>\n",
       "    </tr>\n",
       "    <tr>\n",
       "      <th>2</th>\n",
       "      <td>3</td>\n",
       "      <td>3g43Z25cVRJHFn8ph8cdO0</td>\n",
       "      <td>Rozwell Kid</td>\n",
       "      <td>Precious Art</td>\n",
       "      <td>0RleBUunpuPOEINL7MoSOc</td>\n",
       "      <td>Wendy's Trash Can</td>\n",
       "      <td>42</td>\n",
       "      <td>2020-12-13</td>\n",
       "      <td>18</td>\n",
       "    </tr>\n",
       "    <tr>\n",
       "      <th>3</th>\n",
       "      <td>4</td>\n",
       "      <td>4MpFa3J6Q842B9TBmAAl4S</td>\n",
       "      <td>Weird Owl</td>\n",
       "      <td>Nuclear Psychology</td>\n",
       "      <td>1yihwsSymgN8WSrqHKljSk</td>\n",
       "      <td>King of Flowers (ESP)</td>\n",
       "      <td>12</td>\n",
       "      <td>2020-12-13</td>\n",
       "      <td>17</td>\n",
       "    </tr>\n",
       "    <tr>\n",
       "      <th>4</th>\n",
       "      <td>5</td>\n",
       "      <td>0cANwcqSsKJG0rpYFldfrV</td>\n",
       "      <td>Rose Hill Drive</td>\n",
       "      <td>Americana</td>\n",
       "      <td>4hXfw3LYoQTqfCf4K7Nxcd</td>\n",
       "      <td>Telepathic</td>\n",
       "      <td>37</td>\n",
       "      <td>2020-12-13</td>\n",
       "      <td>16</td>\n",
       "    </tr>\n",
       "    <tr>\n",
       "      <th>...</th>\n",
       "      <td>...</td>\n",
       "      <td>...</td>\n",
       "      <td>...</td>\n",
       "      <td>...</td>\n",
       "      <td>...</td>\n",
       "      <td>...</td>\n",
       "      <td>...</td>\n",
       "      <td>...</td>\n",
       "      <td>...</td>\n",
       "    </tr>\n",
       "    <tr>\n",
       "      <th>215</th>\n",
       "      <td>16</td>\n",
       "      <td>5Igpc9iLZ3YGtKeYfSrrOE</td>\n",
       "      <td>Chris Lake</td>\n",
       "      <td>The Answer</td>\n",
       "      <td>3u3ni5vvXU7WNu1cw5MdFs</td>\n",
       "      <td>Feel So Good</td>\n",
       "      <td>52</td>\n",
       "      <td>2021-01-02</td>\n",
       "      <td>5</td>\n",
       "    </tr>\n",
       "    <tr>\n",
       "      <th>216</th>\n",
       "      <td>17</td>\n",
       "      <td>46fSG0TzqmL5OYqZpjh6pq</td>\n",
       "      <td>Mr. Bizz</td>\n",
       "      <td>Wired Thoughts</td>\n",
       "      <td>2tIXXYQN7GgbbhhU5hRf9T</td>\n",
       "      <td>Color Green</td>\n",
       "      <td>24</td>\n",
       "      <td>2021-01-02</td>\n",
       "      <td>4</td>\n",
       "    </tr>\n",
       "    <tr>\n",
       "      <th>217</th>\n",
       "      <td>18</td>\n",
       "      <td>0cc6vw3VN8YlIcvr1v7tBL</td>\n",
       "      <td>Mötley Crüe</td>\n",
       "      <td>Too Fast For Love</td>\n",
       "      <td>06EC9TibZK2mACTZ2usK1h</td>\n",
       "      <td>Live Wire</td>\n",
       "      <td>66</td>\n",
       "      <td>2021-01-02</td>\n",
       "      <td>3</td>\n",
       "    </tr>\n",
       "    <tr>\n",
       "      <th>218</th>\n",
       "      <td>19</td>\n",
       "      <td>0bbPxPcaed3Td8DqCxBmBP</td>\n",
       "      <td>Monolithic</td>\n",
       "      <td>Control/Aufsteigen</td>\n",
       "      <td>0Tjto4kvSPJ4Y8epUiZlqb</td>\n",
       "      <td>Sleet</td>\n",
       "      <td>28</td>\n",
       "      <td>2021-01-02</td>\n",
       "      <td>2</td>\n",
       "    </tr>\n",
       "    <tr>\n",
       "      <th>219</th>\n",
       "      <td>20</td>\n",
       "      <td>19zqV9DV3txjMUjHvltl2D</td>\n",
       "      <td>Motion City Soundtrack</td>\n",
       "      <td>Even If It Kills Me</td>\n",
       "      <td>24zvL59ZN1uTkvuQheAR0V</td>\n",
       "      <td>Fell In Love Without You</td>\n",
       "      <td>34</td>\n",
       "      <td>2021-01-02</td>\n",
       "      <td>1</td>\n",
       "    </tr>\n",
       "  </tbody>\n",
       "</table>\n",
       "<p>200 rows × 9 columns</p>\n",
       "</div>"
      ],
      "text/plain": [
       "     position                  art_id                art_name  \\\n",
       "0           1  0xK5OqvQKGC1nNtl2pIbwX             Bob Log III   \n",
       "1           2  3g43Z25cVRJHFn8ph8cdO0             Rozwell Kid   \n",
       "2           3  3g43Z25cVRJHFn8ph8cdO0             Rozwell Kid   \n",
       "3           4  4MpFa3J6Q842B9TBmAAl4S               Weird Owl   \n",
       "4           5  0cANwcqSsKJG0rpYFldfrV         Rose Hill Drive   \n",
       "..        ...                     ...                     ...   \n",
       "215        16  5Igpc9iLZ3YGtKeYfSrrOE              Chris Lake   \n",
       "216        17  46fSG0TzqmL5OYqZpjh6pq                Mr. Bizz   \n",
       "217        18  0cc6vw3VN8YlIcvr1v7tBL             Mötley Crüe   \n",
       "218        19  0bbPxPcaed3Td8DqCxBmBP              Monolithic   \n",
       "219        20  19zqV9DV3txjMUjHvltl2D  Motion City Soundtrack   \n",
       "\n",
       "              album_name                 song_id                 song_name  \\\n",
       "0     Guitar Party Power  7cpEBbFirsX4rq2zwqd96L             Ooo Ah Ooo Uh   \n",
       "1             Too Shabby  7HjQRQ1f42ikbZ8gDb7B0m                    Weirdo   \n",
       "2           Precious Art  0RleBUunpuPOEINL7MoSOc         Wendy's Trash Can   \n",
       "3     Nuclear Psychology  1yihwsSymgN8WSrqHKljSk     King of Flowers (ESP)   \n",
       "4              Americana  4hXfw3LYoQTqfCf4K7Nxcd                Telepathic   \n",
       "..                   ...                     ...                       ...   \n",
       "215           The Answer  3u3ni5vvXU7WNu1cw5MdFs              Feel So Good   \n",
       "216       Wired Thoughts  2tIXXYQN7GgbbhhU5hRf9T               Color Green   \n",
       "217    Too Fast For Love  06EC9TibZK2mACTZ2usK1h                 Live Wire   \n",
       "218   Control/Aufsteigen  0Tjto4kvSPJ4Y8epUiZlqb                     Sleet   \n",
       "219  Even If It Kills Me  24zvL59ZN1uTkvuQheAR0V  Fell In Love Without You   \n",
       "\n",
       "    popularity        date  chart_power  \n",
       "0           11  2020-12-13           20  \n",
       "1           32  2020-12-13           19  \n",
       "2           42  2020-12-13           18  \n",
       "3           12  2020-12-13           17  \n",
       "4           37  2020-12-13           16  \n",
       "..         ...         ...          ...  \n",
       "215         52  2021-01-02            5  \n",
       "216         24  2021-01-02            4  \n",
       "217         66  2021-01-02            3  \n",
       "218         28  2021-01-02            2  \n",
       "219         34  2021-01-02            1  \n",
       "\n",
       "[200 rows x 9 columns]"
      ]
     },
     "execution_count": 42,
     "metadata": {},
     "output_type": "execute_result"
    }
   ],
   "source": [
    "df"
   ]
  },
  {
   "cell_type": "code",
   "execution_count": 49,
   "metadata": {},
   "outputs": [],
   "source": [
    "#little example using CSV as the data source\n",
    "file_name = 'CSVs/14Dec2020.csv'\n",
    "csv_gen = (row for row in open(file_name))\n",
    "next(csv_gen)"
   ]
  },
  {
   "cell_type": "code",
   "execution_count": 57,
   "metadata": {},
   "outputs": [],
   "source": [
    "#list comprehensions become Generators if you use a () instead of []\n",
    "date_gen = (n for n in df.date.unique())"
   ]
  },
  {
   "cell_type": "code",
   "execution_count": 58,
   "metadata": {},
   "outputs": [
    {
     "data": {
      "text/plain": [
       "generator"
      ]
     },
     "execution_count": 58,
     "metadata": {},
     "output_type": "execute_result"
    }
   ],
   "source": [
    "type(date_gen)"
   ]
  },
  {
   "cell_type": "code",
   "execution_count": null,
   "metadata": {},
   "outputs": [],
   "source": []
  }
 ],
 "metadata": {
  "kernelspec": {
   "display_name": "Python 3",
   "language": "python",
   "name": "python3"
  },
  "language_info": {
   "codemirror_mode": {
    "name": "ipython",
    "version": 3
   },
   "file_extension": ".py",
   "mimetype": "text/x-python",
   "name": "python",
   "nbconvert_exporter": "python",
   "pygments_lexer": "ipython3",
   "version": "3.7.9"
  }
 },
 "nbformat": 4,
 "nbformat_minor": 4
}
