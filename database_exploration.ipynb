{
 "cells": [
  {
   "cell_type": "code",
   "execution_count": 1,
   "metadata": {},
   "outputs": [],
   "source": [
    "#I was tossed\n",
    "#Into walls of happy sundays\n",
    "import pandas as pd\n",
    "import sqlite3\n",
    "from collections import Counter"
   ]
  },
  {
   "cell_type": "code",
   "execution_count": 2,
   "metadata": {},
   "outputs": [],
   "source": [
    "con = sqlite3.connect(\"spotify.db\")\n",
    "#drop duplicats that are present in the database\n",
    "df = pd.read_sql(\"SELECT * FROM daily_top20_tracks\", con).drop('id', axis=1).drop_duplicates()\n",
    "df.position = df.position.astype('int')"
   ]
  },
  {
   "cell_type": "code",
   "execution_count": 3,
   "metadata": {},
   "outputs": [],
   "source": [
    "df.popularity = df.popularity.astype('int')"
   ]
  },
  {
   "cell_type": "code",
   "execution_count": 4,
   "metadata": {},
   "outputs": [],
   "source": [
    "df['date'] = df['date'].astype('datetime64[ns, US/Eastern]')"
   ]
  },
  {
   "cell_type": "code",
   "execution_count": 5,
   "metadata": {},
   "outputs": [],
   "source": [
    "#The #1 Position of the day would be 20 points, the 20th song would get 1.\n",
    "df['chart_power'] = 21 - df.position\n",
    "df_artists = pd.read_sql(\"SELECT * FROM artists\", con).drop('id', axis=1)\n",
    "chart_power_list = df.groupby(['art_name'])['chart_power'].sum().sort_values(ascending=False)"
   ]
  },
  {
   "cell_type": "code",
   "execution_count": null,
   "metadata": {},
   "outputs": [],
   "source": [
    "#df.to_csv('CSVs/top20tracks21JAN2021.csv')\n",
    "#df_artists.to_csv('CSVs/artists21JAN2021.csv')"
   ]
  },
  {
   "cell_type": "markdown",
   "metadata": {},
   "source": [
    "# AFTER THIS IS SCRATCHPAD"
   ]
  },
  {
   "cell_type": "code",
   "execution_count": null,
   "metadata": {},
   "outputs": [],
   "source": [
    "## WRITE A FUNCTION THAT SHOWS THE lastest day's TOP 10 songs "
   ]
  },
  {
   "cell_type": "code",
   "execution_count": 14,
   "metadata": {},
   "outputs": [
    {
     "name": "stdout",
     "output_type": "stream",
     "text": [
      "<class 'pandas.core.frame.DataFrame'>\n",
      "RangeIndex: 194 entries, 0 to 193\n",
      "Data columns (total 9 columns):\n",
      " #   Column         Non-Null Count  Dtype \n",
      "---  ------         --------------  ----- \n",
      " 0   art_id         194 non-null    object\n",
      " 1   art_name       194 non-null    object\n",
      " 2   followers      194 non-null    int64 \n",
      " 3   genre          194 non-null    object\n",
      " 4   popularity     194 non-null    object\n",
      " 5   album_count    194 non-null    int64 \n",
      " 6   first_release  194 non-null    object\n",
      " 7   query_date     194 non-null    object\n",
      " 8   img_url        1 non-null      object\n",
      "dtypes: int64(2), object(7)\n",
      "memory usage: 13.8+ KB\n"
     ]
    }
   ],
   "source": [
    "df_artists.info()"
   ]
  },
  {
   "cell_type": "code",
   "execution_count": 19,
   "metadata": {},
   "outputs": [
    {
     "data": {
      "text/plain": [
       "0       12849\n",
       "1       19558\n",
       "2       11202\n",
       "3        6213\n",
       "4      128385\n",
       "        ...  \n",
       "189     76800\n",
       "190     16857\n",
       "191      6231\n",
       "192      3983\n",
       "193     45594\n",
       "Name: followers, Length: 194, dtype: int64"
      ]
     },
     "execution_count": 19,
     "metadata": {},
     "output_type": "execute_result"
    }
   ],
   "source": [
    "df_artists.followers"
   ]
  },
  {
   "cell_type": "markdown",
   "metadata": {},
   "source": [
    "## STRFTIME from the first_release to get an artist"
   ]
  },
  {
   "cell_type": "code",
   "execution_count": 30,
   "metadata": {},
   "outputs": [
    {
     "data": {
      "text/html": [
       "<div>\n",
       "<style scoped>\n",
       "    .dataframe tbody tr th:only-of-type {\n",
       "        vertical-align: middle;\n",
       "    }\n",
       "\n",
       "    .dataframe tbody tr th {\n",
       "        vertical-align: top;\n",
       "    }\n",
       "\n",
       "    .dataframe thead th {\n",
       "        text-align: right;\n",
       "    }\n",
       "</style>\n",
       "<table border=\"1\" class=\"dataframe\">\n",
       "  <thead>\n",
       "    <tr style=\"text-align: right;\">\n",
       "      <th></th>\n",
       "      <th>art_name</th>\n",
       "      <th>followers</th>\n",
       "    </tr>\n",
       "  </thead>\n",
       "  <tbody>\n",
       "    <tr>\n",
       "      <th>0</th>\n",
       "      <td>Dua Lipa</td>\n",
       "      <td>23149328</td>\n",
       "    </tr>\n",
       "    <tr>\n",
       "      <th>1</th>\n",
       "      <td>The Rolling Stones</td>\n",
       "      <td>9864532</td>\n",
       "    </tr>\n",
       "    <tr>\n",
       "      <th>2</th>\n",
       "      <td>Prince</td>\n",
       "      <td>5290198</td>\n",
       "    </tr>\n",
       "    <tr>\n",
       "      <th>3</th>\n",
       "      <td>Madonna</td>\n",
       "      <td>4846456</td>\n",
       "    </tr>\n",
       "    <tr>\n",
       "      <th>4</th>\n",
       "      <td>Korn</td>\n",
       "      <td>4434466</td>\n",
       "    </tr>\n",
       "    <tr>\n",
       "      <th>5</th>\n",
       "      <td>Los Ángeles Azules</td>\n",
       "      <td>4361532</td>\n",
       "    </tr>\n",
       "    <tr>\n",
       "      <th>6</th>\n",
       "      <td>Pantera</td>\n",
       "      <td>3168400</td>\n",
       "    </tr>\n",
       "    <tr>\n",
       "      <th>7</th>\n",
       "      <td>Mötley Crüe</td>\n",
       "      <td>3111998</td>\n",
       "    </tr>\n",
       "    <tr>\n",
       "      <th>8</th>\n",
       "      <td>Tove Lo</td>\n",
       "      <td>2727230</td>\n",
       "    </tr>\n",
       "    <tr>\n",
       "      <th>9</th>\n",
       "      <td>Queens of the Stone Age</td>\n",
       "      <td>2659955</td>\n",
       "    </tr>\n",
       "    <tr>\n",
       "      <th>10</th>\n",
       "      <td>Diplo</td>\n",
       "      <td>2358880</td>\n",
       "    </tr>\n",
       "    <tr>\n",
       "      <th>11</th>\n",
       "      <td>Beastie Boys</td>\n",
       "      <td>1880034</td>\n",
       "    </tr>\n",
       "    <tr>\n",
       "      <th>12</th>\n",
       "      <td>Nine Inch Nails</td>\n",
       "      <td>1731226</td>\n",
       "    </tr>\n",
       "    <tr>\n",
       "      <th>13</th>\n",
       "      <td>New Order</td>\n",
       "      <td>1467778</td>\n",
       "    </tr>\n",
       "    <tr>\n",
       "      <th>14</th>\n",
       "      <td>Portishead</td>\n",
       "      <td>1353912</td>\n",
       "    </tr>\n",
       "    <tr>\n",
       "      <th>15</th>\n",
       "      <td>Björk</td>\n",
       "      <td>1347273</td>\n",
       "    </tr>\n",
       "    <tr>\n",
       "      <th>16</th>\n",
       "      <td>Vince Staples</td>\n",
       "      <td>1330895</td>\n",
       "    </tr>\n",
       "    <tr>\n",
       "      <th>17</th>\n",
       "      <td>C. Tangana</td>\n",
       "      <td>1192673</td>\n",
       "    </tr>\n",
       "    <tr>\n",
       "      <th>18</th>\n",
       "      <td>Bonobo</td>\n",
       "      <td>1112457</td>\n",
       "    </tr>\n",
       "    <tr>\n",
       "      <th>19</th>\n",
       "      <td>Tom Waits</td>\n",
       "      <td>1068004</td>\n",
       "    </tr>\n",
       "  </tbody>\n",
       "</table>\n",
       "</div>"
      ],
      "text/plain": [
       "                   art_name  followers\n",
       "0                  Dua Lipa   23149328\n",
       "1        The Rolling Stones    9864532\n",
       "2                    Prince    5290198\n",
       "3                   Madonna    4846456\n",
       "4                      Korn    4434466\n",
       "5        Los Ángeles Azules    4361532\n",
       "6                   Pantera    3168400\n",
       "7               Mötley Crüe    3111998\n",
       "8                   Tove Lo    2727230\n",
       "9   Queens of the Stone Age    2659955\n",
       "10                    Diplo    2358880\n",
       "11             Beastie Boys    1880034\n",
       "12          Nine Inch Nails    1731226\n",
       "13                New Order    1467778\n",
       "14               Portishead    1353912\n",
       "15                    Björk    1347273\n",
       "16            Vince Staples    1330895\n",
       "17               C. Tangana    1192673\n",
       "18                   Bonobo    1112457\n",
       "19                Tom Waits    1068004"
      ]
     },
     "execution_count": 30,
     "metadata": {},
     "output_type": "execute_result"
    }
   ],
   "source": [
    "df_artists.sort_values(by=['followers'], ascending=False).head(20)[['art_name','followers']].reset_index(drop=True)"
   ]
  },
  {
   "cell_type": "code",
   "execution_count": 44,
   "metadata": {},
   "outputs": [
    {
     "data": {
      "text/plain": [
       "genre\n",
       "dance pop              7869965\n",
       "funk                   5290198\n",
       "british invasion       4941586\n",
       "gruperas inmortales    4361532\n",
       "glam metal             3111998\n",
       "bmore                  2358880\n",
       "alternative metal      1647521\n",
       "art rock               1467778\n",
       "electronica            1353912\n",
       "conscious hip hop      1330895\n",
       "urbano espanol         1192673\n",
       "downtempo              1112457\n",
       "folk                   1068004\n",
       "cali rap               1013438\n",
       "neo-psychedelic         853766\n",
       "bedroom pop             671420\n",
       "garage rock             661656\n",
       "candy pop               660918\n",
       "alternative rock        552534\n",
       "bossa nova              459772\n",
       "Name: followers, dtype: int32"
      ]
     },
     "execution_count": 44,
     "metadata": {},
     "output_type": "execute_result"
    }
   ],
   "source": [
    "genre_follower_avgs.astype('int').sort_values(ascending=False)[:20]"
   ]
  },
  {
   "cell_type": "code",
   "execution_count": 35,
   "metadata": {},
   "outputs": [],
   "source": [
    "genre_follower_avgs = df_artists.groupby(by='genre')['followers'].mean()\n",
    "#.sort_values(['followers'], ascending=False)"
   ]
  },
  {
   "cell_type": "code",
   "execution_count": null,
   "metadata": {},
   "outputs": [],
   "source": [
    "genre_follower_avgs['AVG Column'] = genre_follower_avgs['followers']"
   ]
  }
 ],
 "metadata": {
  "kernelspec": {
   "display_name": "Python 3",
   "language": "python",
   "name": "python3"
  },
  "language_info": {
   "codemirror_mode": {
    "name": "ipython",
    "version": 3
   },
   "file_extension": ".py",
   "mimetype": "text/x-python",
   "name": "python",
   "nbconvert_exporter": "python",
   "pygments_lexer": "ipython3",
   "version": "3.7.9"
  }
 },
 "nbformat": 4,
 "nbformat_minor": 4
}
