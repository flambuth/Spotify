{
 "cells": [
  {
   "cell_type": "code",
   "execution_count": 1,
   "metadata": {},
   "outputs": [],
   "source": [
    "import pandas as pd"
   ]
  },
  {
   "cell_type": "code",
   "execution_count": 2,
   "metadata": {},
   "outputs": [],
   "source": [
    "import sqlite3"
   ]
  },
  {
   "cell_type": "code",
   "execution_count": 3,
   "metadata": {},
   "outputs": [],
   "source": [
    "con = sqlite3.connect(\"spotify.db\")"
   ]
  },
  {
   "cell_type": "code",
   "execution_count": null,
   "metadata": {},
   "outputs": [],
   "source": [
    "con."
   ]
  },
  {
   "cell_type": "code",
   "execution_count": 11,
   "metadata": {},
   "outputs": [],
   "source": [
    "df = pd.read_sql(\"SELECT * FROM daily_top20_tracks\", con).drop('id', axis=1)"
   ]
  },
  {
   "cell_type": "code",
   "execution_count": 14,
   "metadata": {},
   "outputs": [
    {
     "data": {
      "text/plain": [
       "array(['Bob Log III', 'Rozwell Kid', 'Weird Owl', 'Rose Hill Drive',\n",
       "       'Radio Moscow', 'Cayetana', 'All Them Witches', 'Slothrust',\n",
       "       'Tom Waits', 'Mötley Crüe', 'Sugar Candy Mountain',\n",
       "       'Flaco Jimenez', 'Shocking Blue', 'Big Daddy Kane',\n",
       "       'Ray Wylie Hubbard', 'The Rolling Stones', 'Portishead',\n",
       "       'C. Tangana', 'Fuzz', 'Cults', 'Friend Within',\n",
       "       'Antarctigo Vespucci', 'beabadoobee', 'Great Grandpa', 'SASAMI',\n",
       "       'Nine Inch Nails', 'Becca Mancari', 'Mr. Bizz', 'Monolithic',\n",
       "       'Andrea Marino', 'Burial', 'Motion City Soundtrack', 'Chris Lake'],\n",
       "      dtype=object)"
      ]
     },
     "execution_count": 14,
     "metadata": {},
     "output_type": "execute_result"
    }
   ],
   "source": [
    "df.art_name.unique()"
   ]
  },
  {
   "cell_type": "code",
   "execution_count": null,
   "metadata": {},
   "outputs": [],
   "source": []
  }
 ],
 "metadata": {
  "kernelspec": {
   "display_name": "Python 3",
   "language": "python",
   "name": "python3"
  },
  "language_info": {
   "codemirror_mode": {
    "name": "ipython",
    "version": 3
   },
   "file_extension": ".py",
   "mimetype": "text/x-python",
   "name": "python",
   "nbconvert_exporter": "python",
   "pygments_lexer": "ipython3",
   "version": "3.7.9"
  }
 },
 "nbformat": 4,
 "nbformat_minor": 4
}
