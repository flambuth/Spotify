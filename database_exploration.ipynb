{
 "cells": [
  {
   "cell_type": "code",
   "execution_count": 1,
   "metadata": {},
   "outputs": [],
   "source": [
    "#I was tossed\n",
    "#Into walls of happy sundays\n",
    "import pandas as pd\n",
    "import sqlite3\n",
    "from collections import Counter"
   ]
  },
  {
   "cell_type": "code",
   "execution_count": 2,
   "metadata": {},
   "outputs": [],
   "source": [
    "con = sqlite3.connect(\"spotify.db\")\n",
    "#drop duplicats that are present in the database\n",
    "df = pd.read_sql(\"SELECT * FROM daily_top20_tracks\", con).drop('id', axis=1).drop_duplicates()\n",
    "df.position = df.position.astype('int')"
   ]
  },
  {
   "cell_type": "code",
   "execution_count": 3,
   "metadata": {},
   "outputs": [],
   "source": [
    "df.popularity = df.popularity.astype('int')"
   ]
  },
  {
   "cell_type": "code",
   "execution_count": 4,
   "metadata": {},
   "outputs": [],
   "source": [
    "df['date'] = df['date'].astype('datetime64[ns, US/Eastern]')"
   ]
  },
  {
   "cell_type": "code",
   "execution_count": 5,
   "metadata": {},
   "outputs": [],
   "source": [
    "#The #1 Position of the day would be 20 points, the 20th song would get 1.\n",
    "df['chart_power'] = 21 - df.position\n",
    "df_artists = pd.read_sql(\"SELECT * FROM artists\", con).drop('id', axis=1)\n",
    "chart_power_list = df.groupby(['art_name'])['chart_power'].sum().sort_values(ascending=False)"
   ]
  },
  {
   "cell_type": "markdown",
   "metadata": {},
   "source": [
    "# Let's replicate the top20tracks process for the artists. So I can drop that in tableau as a join.\n",
    "<b><i> What? </i></b>"
   ]
  },
  {
   "cell_type": "markdown",
   "metadata": {},
   "source": [
    "# SAVE TO A CSV. AS A BACKUP AND TO DROP DUPLICATES\n",
    "maybe we'll just restart the database with the CSV as the seed"
   ]
  },
  {
   "cell_type": "code",
   "execution_count": null,
   "metadata": {},
   "outputs": [],
   "source": [
    "#df.to_csv('CSVs/top20tracks21JAN2021.csv')\n",
    "#df_artists.to_csv('CSVs/artists21JAN2021.csv')"
   ]
  },
  {
   "cell_type": "markdown",
   "metadata": {},
   "source": [
    "# AFTER THIS IS SCRATCHPAD"
   ]
  },
  {
   "cell_type": "code",
   "execution_count": null,
   "metadata": {},
   "outputs": [],
   "source": [
    "## WRITE A FUNCTION THAT SHOWS THE lastest day's TOP 10 songs "
   ]
  },
  {
   "cell_type": "code",
   "execution_count": 6,
   "metadata": {},
   "outputs": [
    {
     "name": "stdout",
     "output_type": "stream",
     "text": [
      "<class 'pandas.core.frame.DataFrame'>\n",
      "Int64Index: 1100 entries, 0 to 1119\n",
      "Data columns (total 9 columns):\n",
      " #   Column       Non-Null Count  Dtype                     \n",
      "---  ------       --------------  -----                     \n",
      " 0   position     1100 non-null   int32                     \n",
      " 1   art_id       1100 non-null   object                    \n",
      " 2   art_name     1100 non-null   object                    \n",
      " 3   album_name   1100 non-null   object                    \n",
      " 4   song_id      1100 non-null   object                    \n",
      " 5   song_name    1100 non-null   object                    \n",
      " 6   popularity   1100 non-null   int32                     \n",
      " 7   date         1100 non-null   datetime64[ns, US/Eastern]\n",
      " 8   chart_power  1100 non-null   int32                     \n",
      "dtypes: datetime64[ns, US/Eastern](1), int32(3), object(5)\n",
      "memory usage: 73.0+ KB\n"
     ]
    }
   ],
   "source": [
    "df.info()"
   ]
  },
  {
   "cell_type": "code",
   "execution_count": 11,
   "metadata": {},
   "outputs": [
    {
     "data": {
      "text/html": [
       "<div>\n",
       "<style scoped>\n",
       "    .dataframe tbody tr th:only-of-type {\n",
       "        vertical-align: middle;\n",
       "    }\n",
       "\n",
       "    .dataframe tbody tr th {\n",
       "        vertical-align: top;\n",
       "    }\n",
       "\n",
       "    .dataframe thead th {\n",
       "        text-align: right;\n",
       "    }\n",
       "</style>\n",
       "<table border=\"1\" class=\"dataframe\">\n",
       "  <thead>\n",
       "    <tr style=\"text-align: right;\">\n",
       "      <th></th>\n",
       "      <th>position</th>\n",
       "      <th>art_name</th>\n",
       "      <th>song_name</th>\n",
       "    </tr>\n",
       "  </thead>\n",
       "  <tbody>\n",
       "    <tr>\n",
       "      <th>1100</th>\n",
       "      <td>1</td>\n",
       "      <td>100 gecs</td>\n",
       "      <td>stupid horse (Remix) [feat. GFOTY &amp; Count Baldor]</td>\n",
       "    </tr>\n",
       "    <tr>\n",
       "      <th>1101</th>\n",
       "      <td>2</td>\n",
       "      <td>Nitepunk</td>\n",
       "      <td>Flow (Habstrakt Remix)</td>\n",
       "    </tr>\n",
       "    <tr>\n",
       "      <th>1102</th>\n",
       "      <td>3</td>\n",
       "      <td>ZULI</td>\n",
       "      <td>3ankaboot</td>\n",
       "    </tr>\n",
       "    <tr>\n",
       "      <th>1103</th>\n",
       "      <td>4</td>\n",
       "      <td>Special Request</td>\n",
       "      <td>Spectral Frequency</td>\n",
       "    </tr>\n",
       "    <tr>\n",
       "      <th>1104</th>\n",
       "      <td>5</td>\n",
       "      <td>Ivy Lab</td>\n",
       "      <td>Orange</td>\n",
       "    </tr>\n",
       "    <tr>\n",
       "      <th>1105</th>\n",
       "      <td>6</td>\n",
       "      <td>HEALTH</td>\n",
       "      <td>Blue Monday</td>\n",
       "    </tr>\n",
       "    <tr>\n",
       "      <th>1106</th>\n",
       "      <td>7</td>\n",
       "      <td>Shygirl</td>\n",
       "      <td>TASTY - Boys Noize Remix</td>\n",
       "    </tr>\n",
       "    <tr>\n",
       "      <th>1107</th>\n",
       "      <td>8</td>\n",
       "      <td>Kyle Watson</td>\n",
       "      <td>The Ratchet Express</td>\n",
       "    </tr>\n",
       "    <tr>\n",
       "      <th>1108</th>\n",
       "      <td>9</td>\n",
       "      <td>Nitti Gritti</td>\n",
       "      <td>Cold Day in Hell</td>\n",
       "    </tr>\n",
       "    <tr>\n",
       "      <th>1109</th>\n",
       "      <td>10</td>\n",
       "      <td>Gettoblaster</td>\n",
       "      <td>Alright Alright</td>\n",
       "    </tr>\n",
       "    <tr>\n",
       "      <th>1110</th>\n",
       "      <td>11</td>\n",
       "      <td>Habstrakt</td>\n",
       "      <td>Gotta Be</td>\n",
       "    </tr>\n",
       "    <tr>\n",
       "      <th>1111</th>\n",
       "      <td>12</td>\n",
       "      <td>Ardalan</td>\n",
       "      <td>Lifted</td>\n",
       "    </tr>\n",
       "    <tr>\n",
       "      <th>1112</th>\n",
       "      <td>13</td>\n",
       "      <td>Solardo</td>\n",
       "      <td>Tribesmen - Original Mix</td>\n",
       "    </tr>\n",
       "    <tr>\n",
       "      <th>1113</th>\n",
       "      <td>14</td>\n",
       "      <td>Korn</td>\n",
       "      <td>Got the Life</td>\n",
       "    </tr>\n",
       "    <tr>\n",
       "      <th>1114</th>\n",
       "      <td>15</td>\n",
       "      <td>Shermanology</td>\n",
       "      <td>Pop That</td>\n",
       "    </tr>\n",
       "    <tr>\n",
       "      <th>1115</th>\n",
       "      <td>16</td>\n",
       "      <td>Marten Hørger</td>\n",
       "      <td>ØUT ØF THE WØRLD</td>\n",
       "    </tr>\n",
       "    <tr>\n",
       "      <th>1116</th>\n",
       "      <td>17</td>\n",
       "      <td>The Knocks</td>\n",
       "      <td>Bodies</td>\n",
       "    </tr>\n",
       "    <tr>\n",
       "      <th>1117</th>\n",
       "      <td>18</td>\n",
       "      <td>The Deepshakerz</td>\n",
       "      <td>Devotion</td>\n",
       "    </tr>\n",
       "    <tr>\n",
       "      <th>1118</th>\n",
       "      <td>19</td>\n",
       "      <td>Dua Lipa</td>\n",
       "      <td>Break My Heart / Cosmic Girl (Dimitri From Par...</td>\n",
       "    </tr>\n",
       "    <tr>\n",
       "      <th>1119</th>\n",
       "      <td>20</td>\n",
       "      <td>Octo Octa</td>\n",
       "      <td>Goddess Calling</td>\n",
       "    </tr>\n",
       "  </tbody>\n",
       "</table>\n",
       "</div>"
      ],
      "text/plain": [
       "      position         art_name  \\\n",
       "1100         1         100 gecs   \n",
       "1101         2         Nitepunk   \n",
       "1102         3             ZULI   \n",
       "1103         4  Special Request   \n",
       "1104         5          Ivy Lab   \n",
       "1105         6           HEALTH   \n",
       "1106         7          Shygirl   \n",
       "1107         8      Kyle Watson   \n",
       "1108         9     Nitti Gritti   \n",
       "1109        10     Gettoblaster   \n",
       "1110        11        Habstrakt   \n",
       "1111        12          Ardalan   \n",
       "1112        13          Solardo   \n",
       "1113        14             Korn   \n",
       "1114        15     Shermanology   \n",
       "1115        16    Marten Hørger   \n",
       "1116        17       The Knocks   \n",
       "1117        18  The Deepshakerz   \n",
       "1118        19         Dua Lipa   \n",
       "1119        20        Octo Octa   \n",
       "\n",
       "                                              song_name  \n",
       "1100  stupid horse (Remix) [feat. GFOTY & Count Baldor]  \n",
       "1101                             Flow (Habstrakt Remix)  \n",
       "1102                                          3ankaboot  \n",
       "1103                                 Spectral Frequency  \n",
       "1104                                             Orange  \n",
       "1105                                        Blue Monday  \n",
       "1106                           TASTY - Boys Noize Remix  \n",
       "1107                                The Ratchet Express  \n",
       "1108                                   Cold Day in Hell  \n",
       "1109                                    Alright Alright  \n",
       "1110                                           Gotta Be  \n",
       "1111                                             Lifted  \n",
       "1112                           Tribesmen - Original Mix  \n",
       "1113                                       Got the Life  \n",
       "1114                                           Pop That  \n",
       "1115                                   ØUT ØF THE WØRLD  \n",
       "1116                                             Bodies  \n",
       "1117                                           Devotion  \n",
       "1118  Break My Heart / Cosmic Girl (Dimitri From Par...  \n",
       "1119                                    Goddess Calling  "
      ]
     },
     "execution_count": 11,
     "metadata": {},
     "output_type": "execute_result"
    }
   ],
   "source": [
    "df[['position','art_name', 'song_name']][df.date == max(df.date)]"
   ]
  },
  {
   "cell_type": "code",
   "execution_count": null,
   "metadata": {},
   "outputs": [],
   "source": []
  },
  {
   "cell_type": "code",
   "execution_count": null,
   "metadata": {},
   "outputs": [],
   "source": []
  }
 ],
 "metadata": {
  "kernelspec": {
   "display_name": "Python 3",
   "language": "python",
   "name": "python3"
  },
  "language_info": {
   "codemirror_mode": {
    "name": "ipython",
    "version": 3
   },
   "file_extension": ".py",
   "mimetype": "text/x-python",
   "name": "python",
   "nbconvert_exporter": "python",
   "pygments_lexer": "ipython3",
   "version": "3.7.9"
  }
 },
 "nbformat": 4,
 "nbformat_minor": 4
}
