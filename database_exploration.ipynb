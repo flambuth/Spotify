{
 "cells": [
  {
   "cell_type": "code",
   "execution_count": 1,
   "metadata": {},
   "outputs": [],
   "source": [
    "#I was tossed\n",
    "#Into walls of happy sundays\n",
    "import pandas as pd\n",
    "import sqlite3\n",
    "from collections import Counter"
   ]
  },
  {
   "cell_type": "code",
   "execution_count": 2,
   "metadata": {},
   "outputs": [],
   "source": [
    "con = sqlite3.connect(\"spotify.db\")\n",
    "\n",
    "#FUCKING DUPLICATES\n",
    "df = pd.read_sql(\"SELECT * FROM daily_top20_tracks\", con).drop('id', axis=1).drop_duplicates()\n",
    "\n",
    "df.position = df.position.astype('int')"
   ]
  },
  {
   "cell_type": "markdown",
   "metadata": {},
   "source": [
    "# Let's replicate the top20tracks process for the artists. So I can drop that in tableau as a join.\n",
    "<b><i> What? </i></b>"
   ]
  },
  {
   "cell_type": "code",
   "execution_count": 11,
   "metadata": {},
   "outputs": [],
   "source": [
    "df_artists = pd.read_sql(\"SELECT * FROM artists\", con).drop('id', axis=1)"
   ]
  },
  {
   "cell_type": "markdown",
   "metadata": {},
   "source": [
    "The #1 Position of the day would be 20 points, the 20th song would get 1."
   ]
  },
  {
   "cell_type": "code",
   "execution_count": 5,
   "metadata": {},
   "outputs": [],
   "source": [
    "df['chart_power'] = 21 - df.position"
   ]
  },
  {
   "cell_type": "markdown",
   "metadata": {},
   "source": [
    "The aggregate chart_power artists on the list. "
   ]
  },
  {
   "cell_type": "code",
   "execution_count": 7,
   "metadata": {},
   "outputs": [
    {
     "data": {
      "text/plain": [
       "art_name\n",
       "Friend Within                312\n",
       "Antarctigo Vespucci          288\n",
       "Burial                       261\n",
       "Chris Lake                   254\n",
       "beabadoobee                  253\n",
       "Rose Hill Drive              237\n",
       "Rozwell Kid                  230\n",
       "Becca Mancari                193\n",
       "Great Grandpa                183\n",
       "Motion City Soundtrack       164\n",
       "All Them Witches             159\n",
       "SASAMI                       157\n",
       "Bob Log III                  155\n",
       "SLIFT                        146\n",
       "King Tuff                    138\n",
       "Tom Waits                    136\n",
       "Primus                       127\n",
       "Mötley Crüe                  122\n",
       "Acid Dad                     107\n",
       "Scott Walker                  99\n",
       "Shocking Blue                 96\n",
       "Francis Inferno Orchestra     88\n",
       "Cults                         85\n",
       "C. Tangana                    83\n",
       "Fuzz                          73\n",
       "Cool Ghouls                   72\n",
       "Weird Owl                     68\n",
       "Never Dull                    64\n",
       "Nine Inch Nails               61\n",
       "L.A. WITCH                    57\n",
       "Monolithic                    56\n",
       "Cayetana                      55\n",
       "Shiba San                     47\n",
       "Mr. Bizz                      47\n",
       "Radio Moscow                  45\n",
       "Slothrust                     45\n",
       "Flaco Jimenez                 42\n",
       "Big Daddy Kane                38\n",
       "Daniel Ash                    30\n",
       "The Rolling Stones            27\n",
       "Icona Pop                     19\n",
       "King Tubby                    16\n",
       "Ray Wylie Hubbard             16\n",
       "Beastie Boys                  15\n",
       "Jamie Jones                   14\n",
       "Claude VonStroke              10\n",
       "Makam                         10\n",
       "Andrea Marino                 10\n",
       "Sugar Candy Mountain           9\n",
       "A*S*Y*S                        8\n",
       "Killing Joke                   4\n",
       "Portishead                     4\n",
       "MC Chris                       3\n",
       "CID                            1\n",
       "Jansons                        1\n",
       "Name: chart_power, dtype: int32"
      ]
     },
     "execution_count": 7,
     "metadata": {},
     "output_type": "execute_result"
    }
   ],
   "source": [
    "df.groupby(['art_name'])['chart_power'].sum().sort_values(ascending=False)"
   ]
  },
  {
   "cell_type": "markdown",
   "metadata": {},
   "source": [
    "# SAVE TO A CSV. AS A BACKUP AND TO DROP DUPLICATES\n",
    "maybe we'll just restart the database with the CSV as the seed"
   ]
  },
  {
   "cell_type": "code",
   "execution_count": 8,
   "metadata": {},
   "outputs": [],
   "source": [
    "df.to_csv('CSVs/top20tracks21JAN2021.csv')"
   ]
  },
  {
   "cell_type": "code",
   "execution_count": 13,
   "metadata": {},
   "outputs": [],
   "source": [
    "df_artists.to_csv('CSVs/artists21JAN2021.csv')"
   ]
  },
  {
   "cell_type": "markdown",
   "metadata": {},
   "source": [
    "# AFTER THIS IS SCRATCHPAD"
   ]
  },
  {
   "cell_type": "code",
   "execution_count": null,
   "metadata": {},
   "outputs": [],
   "source": [
    "#little example using CSV as the data source\n",
    "file_name = 'CSVs/14Dec2020.csv'\n",
    "csv_gen = (row for row in open(file_name))\n",
    "next(csv_gen)"
   ]
  },
  {
   "cell_type": "code",
   "execution_count": null,
   "metadata": {},
   "outputs": [],
   "source": [
    "#list comprehensions become Generators if you use a () instead of []\n",
    "date_gen = (n for n in df.date.unique())"
   ]
  },
  {
   "cell_type": "code",
   "execution_count": null,
   "metadata": {},
   "outputs": [],
   "source": [
    "type(date_gen)"
   ]
  },
  {
   "cell_type": "code",
   "execution_count": null,
   "metadata": {},
   "outputs": [],
   "source": []
  }
 ],
 "metadata": {
  "kernelspec": {
   "display_name": "Python 3",
   "language": "python",
   "name": "python3"
  },
  "language_info": {
   "codemirror_mode": {
    "name": "ipython",
    "version": 3
   },
   "file_extension": ".py",
   "mimetype": "text/x-python",
   "name": "python",
   "nbconvert_exporter": "python",
   "pygments_lexer": "ipython3",
   "version": "3.7.9"
  }
 },
 "nbformat": 4,
 "nbformat_minor": 4
}
