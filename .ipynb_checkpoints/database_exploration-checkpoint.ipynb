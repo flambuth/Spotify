{
 "cells": [
  {
   "cell_type": "code",
   "execution_count": 1,
   "metadata": {},
   "outputs": [],
   "source": [
    "#I was tossed\n",
    "#Into walls of happy sundays\n",
    "import pandas as pd\n",
    "import sqlite3\n",
    "from collections import Counter"
   ]
  },
  {
   "cell_type": "code",
   "execution_count": 2,
   "metadata": {},
   "outputs": [],
   "source": [
    "con = sqlite3.connect(\"spotify.db\")\n",
    "#drop duplicats that are present in the database\n",
    "df = pd.read_sql(\"SELECT * FROM daily_top20_tracks\", con).drop('id', axis=1).drop_duplicates()\n",
    "df.position = df.position.astype('int')\n",
    "#The #1 Position of the day would be 20 points, the 20th song would get 1.\n",
    "df['chart_power'] = 21 - df.position"
   ]
  },
  {
   "cell_type": "markdown",
   "metadata": {},
   "source": [
    "# Let's replicate the top20tracks process for the artists. So I can drop that in tableau as a join.\n",
    "<b><i> What? </i></b>"
   ]
  },
  {
   "cell_type": "code",
   "execution_count": 3,
   "metadata": {},
   "outputs": [],
   "source": [
    "df_artists = pd.read_sql(\"SELECT * FROM artists\", con).drop('id', axis=1)"
   ]
  },
  {
   "cell_type": "code",
   "execution_count": 4,
   "metadata": {},
   "outputs": [],
   "source": []
  },
  {
   "cell_type": "markdown",
   "metadata": {},
   "source": [
    "The aggregate chart_power artists on the list. "
   ]
  },
  {
   "cell_type": "code",
   "execution_count": 5,
   "metadata": {},
   "outputs": [
    {
     "data": {
      "text/plain": [
       "art_name\n",
       "SLIFT              448\n",
       "Ponty Mython       416\n",
       "Chris Lake         402\n",
       "Acid Dad           380\n",
       "Tones On Tail      369\n",
       "                  ... \n",
       "CID                  3\n",
       "MC Chris             3\n",
       "The Deepshakerz      3\n",
       "Jansons              1\n",
       "Mella Dee            1\n",
       "Name: chart_power, Length: 97, dtype: int32"
      ]
     },
     "execution_count": 5,
     "metadata": {},
     "output_type": "execute_result"
    }
   ],
   "source": [
    "df.groupby(['art_name'])['chart_power'].sum().sort_values(ascending=False)"
   ]
  },
  {
   "cell_type": "markdown",
   "metadata": {},
   "source": [
    "# SAVE TO A CSV. AS A BACKUP AND TO DROP DUPLICATES\n",
    "maybe we'll just restart the database with the CSV as the seed"
   ]
  },
  {
   "cell_type": "code",
   "execution_count": null,
   "metadata": {},
   "outputs": [],
   "source": [
    "df.to_csv('CSVs/top20tracks21JAN2021.csv')"
   ]
  },
  {
   "cell_type": "code",
   "execution_count": null,
   "metadata": {},
   "outputs": [],
   "source": [
    "df_artists.to_csv('CSVs/artists21JAN2021.csv')"
   ]
  },
  {
   "cell_type": "markdown",
   "metadata": {},
   "source": [
    "# AFTER THIS IS SCRATCHPAD"
   ]
  },
  {
   "cell_type": "code",
   "execution_count": null,
   "metadata": {},
   "outputs": [],
   "source": [
    "#little example using CSV as the data source\n",
    "file_name = 'CSVs/14Dec2020.csv'\n",
    "csv_gen = (row for row in open(file_name))\n",
    "next(csv_gen)"
   ]
  },
  {
   "cell_type": "code",
   "execution_count": null,
   "metadata": {},
   "outputs": [],
   "source": [
    "#list comprehensions become Generators if you use a () instead of []\n",
    "date_gen = (n for n in df.date.unique())"
   ]
  },
  {
   "cell_type": "code",
   "execution_count": null,
   "metadata": {},
   "outputs": [],
   "source": [
    "type(date_gen)"
   ]
  },
  {
   "cell_type": "code",
   "execution_count": null,
   "metadata": {},
   "outputs": [],
   "source": []
  },
  {
   "cell_type": "code",
   "execution_count": null,
   "metadata": {},
   "outputs": [],
   "source": []
  },
  {
   "cell_type": "code",
   "execution_count": null,
   "metadata": {},
   "outputs": [],
   "source": [
    "## WRITE A FUNCTION THAT SHOWS THE lastest day's TOP 10 songs "
   ]
  },
  {
   "cell_type": "code",
   "execution_count": null,
   "metadata": {},
   "outputs": [],
   "source": []
  },
  {
   "cell_type": "code",
   "execution_count": null,
   "metadata": {},
   "outputs": [],
   "source": []
  }
 ],
 "metadata": {
  "kernelspec": {
   "display_name": "Python 3",
   "language": "python",
   "name": "python3"
  },
  "language_info": {
   "codemirror_mode": {
    "name": "ipython",
    "version": 3
   },
   "file_extension": ".py",
   "mimetype": "text/x-python",
   "name": "python",
   "nbconvert_exporter": "python",
   "pygments_lexer": "ipython3",
   "version": "3.7.9"
  }
 },
 "nbformat": 4,
 "nbformat_minor": 4
}
