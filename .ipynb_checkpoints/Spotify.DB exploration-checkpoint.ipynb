{
 "cells": [
  {
   "cell_type": "code",
   "execution_count": null,
   "id": "72a22708",
   "metadata": {},
   "outputs": [],
   "source": [
    "import sqlite3\n",
    "from collections import Counter\n",
    "import pandas as pd\n",
    "import nltk\n",
    "import plotly.express as px"
   ]
  },
  {
   "cell_type": "code",
   "execution_count": null,
   "id": "a4b1ee3e",
   "metadata": {},
   "outputs": [],
   "source": [
    "query = 'select * from daily_top20_artists;'\n",
    "query_artists = 'select * from artists;'"
   ]
  },
  {
   "cell_type": "code",
   "execution_count": null,
   "id": "4a8555b3",
   "metadata": {},
   "outputs": [],
   "source": [
    "conn = sqlite3.connect('spotify.db')\n",
    "\n",
    "cursor = conn.cursor()"
   ]
  },
  {
   "cell_type": "code",
   "execution_count": null,
   "id": "b013857b",
   "metadata": {},
   "outputs": [],
   "source": [
    "cursor.execute(query_artists)\n",
    "blob = cursor.fetchall()"
   ]
  },
  {
   "cell_type": "code",
   "execution_count": null,
   "id": "a61c6f9b",
   "metadata": {},
   "outputs": [],
   "source": [
    "genres_rawcount = [i[4] for i in blob]"
   ]
  },
  {
   "cell_type": "code",
   "execution_count": null,
   "id": "5e70461f",
   "metadata": {},
   "outputs": [],
   "source": [
    "genre_blob = ' '.join(genres_rawcount)"
   ]
  },
  {
   "cell_type": "code",
   "execution_count": null,
   "id": "3ceaec33",
   "metadata": {},
   "outputs": [],
   "source": [
    "genre_wordlist = nltk.word_tokenize(genre_blob)"
   ]
  },
  {
   "cell_type": "code",
   "execution_count": null,
   "id": "fb228b04",
   "metadata": {},
   "outputs": [],
   "source": [
    "#no NLTK\n",
    "raw_grams = Counter(genres_rawcount).most_common()\n",
    "\n",
    "#top 10 bigrams\n",
    "bigrams = Counter(list(nltk.bigrams(genre_wordlist))).most_common(10)\n",
    "\n",
    "#top 10 unigrams\n",
    "unigrams = list(enumerate(Counter(genre_wordlist).most_common(10)))"
   ]
  },
  {
   "cell_type": "markdown",
   "id": "236a1765",
   "metadata": {},
   "source": [
    "## Plotly "
   ]
  },
  {
   "cell_type": "code",
   "execution_count": null,
   "id": "f79ef946",
   "metadata": {},
   "outputs": [],
   "source": [
    "#Raw_grams\n",
    "df_raw = pd.DataFrame(raw_grams, columns = ['genre','count'])\n",
    "\n",
    "blob = df_raw['genre'] == 'None'\n",
    "\n",
    "df_raw = df_raw.loc[~blob]"
   ]
  },
  {
   "cell_type": "code",
   "execution_count": null,
   "id": "425659e1",
   "metadata": {},
   "outputs": [],
   "source": [
    "fig = px.bar(df_raw.iloc[:10], x='genre', y='count')\n",
    "fig.show()"
   ]
  },
  {
   "cell_type": "code",
   "execution_count": null,
   "id": "0158ee1c",
   "metadata": {},
   "outputs": [],
   "source": []
  },
  {
   "cell_type": "code",
   "execution_count": null,
   "id": "65eacb7f",
   "metadata": {},
   "outputs": [],
   "source": [
    "#top 10 unigrams\n",
    "unigrams = Counter(genre_wordlist).most_common(10)\n",
    "df_uni = pd.DataFrame(unigrams, columns = ['genre','count'])"
   ]
  },
  {
   "cell_type": "code",
   "execution_count": null,
   "id": "37c85ccb",
   "metadata": {},
   "outputs": [],
   "source": [
    "fig = px.bar(df_uni, x='genre', y='count')\n",
    "fig.show()"
   ]
  },
  {
   "cell_type": "markdown",
   "id": "30638bac",
   "metadata": {},
   "source": [
    "## Pandas"
   ]
  },
  {
   "cell_type": "code",
   "execution_count": null,
   "id": "972968c8",
   "metadata": {},
   "outputs": [],
   "source": [
    "cols = ['index', 'position', 'art_id', 'art_name', 'popularity', 'followers', 'day_of_chart']"
   ]
  },
  {
   "cell_type": "code",
   "execution_count": null,
   "id": "6ccd75de",
   "metadata": {},
   "outputs": [],
   "source": [
    "chart_appearances = df.groupby(['art_name'])['position'].count()"
   ]
  },
  {
   "cell_type": "code",
   "execution_count": null,
   "id": "1adfb989",
   "metadata": {},
   "outputs": [],
   "source": [
    "chart_appearances.sort_values().tail(20)"
   ]
  },
  {
   "cell_type": "code",
   "execution_count": null,
   "id": "b8321ffa",
   "metadata": {},
   "outputs": [],
   "source": []
  }
 ],
 "metadata": {
  "kernelspec": {
   "display_name": "Python 3",
   "language": "python",
   "name": "python3"
  },
  "language_info": {
   "codemirror_mode": {
    "name": "ipython",
    "version": 3
   },
   "file_extension": ".py",
   "mimetype": "text/x-python",
   "name": "python",
   "nbconvert_exporter": "python",
   "pygments_lexer": "ipython3",
   "version": "3.7.9"
  }
 },
 "nbformat": 4,
 "nbformat_minor": 5
}
